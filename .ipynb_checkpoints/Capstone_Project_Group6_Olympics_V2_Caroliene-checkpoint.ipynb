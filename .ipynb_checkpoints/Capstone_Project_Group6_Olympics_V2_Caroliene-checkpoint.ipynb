{
 "cells": [
  {
   "cell_type": "markdown",
   "metadata": {},
   "source": [
    "# Capstone Group 6: 120 years of olympic historic data¶\n",
    "\n",
    "<br>\n",
    "<br>\n",
    "\n",
    "**Datasets from Kaggle:** https://www.kaggle.com/heesoo37/120-years-of-olympic-history-athletes-and-results\n",
    "\n",
    "**Description:** the dataset consist of 120 year olympic historic data\n",
    "\n",
    "<br>\n",
    "\n",
    "**Research questions:**\n",
    "\n",
    "\n",
    "1. In which year did the Netherlands win the most total medals and the most golden medals <br>\n",
    "2. Who is the most successfull olympic Dutch female athlete and male athlete (successfull = most total medals)<br>\n",
    "3. Did the Netherlands win more during the summer or winter olympics? <br>\n",
    "4. <br>\n",
    "5. <br>"
   ]
  },
  {
   "cell_type": "markdown",
   "metadata": {},
   "source": [
    "### Loader: importing libraries"
   ]
  },
  {
   "cell_type": "code",
   "execution_count": 19,
   "metadata": {},
   "outputs": [],
   "source": [
    "#Any other library we like to use?\n",
    "import pandas as pd\n",
    "import numpy as np\n",
    "#import glob \n",
    "import matplotlib.pyplot as plt"
   ]
  },
  {
   "cell_type": "markdown",
   "metadata": {},
   "source": [
    "### Loader: importing datasets"
   ]
  },
  {
   "cell_type": "code",
   "execution_count": 4,
   "metadata": {},
   "outputs": [],
   "source": [
    "df1 = pd.read_csv('data\\\\athlete_events.csv')\n",
    "df2 = pd.read_csv('data\\\\noc_regions.csv')"
   ]
  },
  {
   "cell_type": "markdown",
   "metadata": {},
   "source": [
    "### Loader: merging datasets\n",
    "- Check the merge: we have 271118 records, so 2 region values extra from df2. <br>\n",
    "- The two extra records have no athlete information. In the next step we will delete these records"
   ]
  },
  {
   "cell_type": "code",
   "execution_count": 5,
   "metadata": {},
   "outputs": [
    {
     "name": "stdout",
     "output_type": "stream",
     "text": [
      "(271116, 15)\n",
      "(230, 3)\n",
      "(271118, 17)\n",
      "       ID           Name Sex   Age  Height  Weight   Team  NOC        Games  \\\n",
      "0     1.0      A Dijiang   M  24.0   180.0    80.0  China  CHN  1992 Summer   \n",
      "1     2.0       A Lamusi   M  23.0   170.0    60.0  China  CHN  2012 Summer   \n",
      "2   602.0  Abudoureheman   M  22.0   182.0    75.0  China  CHN  2000 Summer   \n",
      "3  1463.0      Ai Linuer   M  25.0   160.0    62.0  China  CHN  2004 Summer   \n",
      "4  1464.0      Ai Yanhan   F  14.0   168.0    54.0  China  CHN  2016 Summer   \n",
      "\n",
      "     Year  Season            City       Sport  \\\n",
      "0  1992.0  Summer       Barcelona  Basketball   \n",
      "1  2012.0  Summer          London        Judo   \n",
      "2  2000.0  Summer          Sydney      Boxing   \n",
      "3  2004.0  Summer          Athina   Wrestling   \n",
      "4  2016.0  Summer  Rio de Janeiro    Swimming   \n",
      "\n",
      "                                      Event Medal region notes  \n",
      "0               Basketball Men's Basketball   NaN  China   NaN  \n",
      "1              Judo Men's Extra-Lightweight   NaN  China   NaN  \n",
      "2                 Boxing Men's Middleweight   NaN  China   NaN  \n",
      "3  Wrestling Men's Lightweight, Greco-Roman   NaN  China   NaN  \n",
      "4     Swimming Women's 200 metres Freestyle   NaN  China   NaN  \n"
     ]
    }
   ],
   "source": [
    "df = pd.merge(df1, df2, how='outer', on=[\"NOC\"])\n",
    "\n",
    "print(df1.shape)\n",
    "print(df2.shape)\n",
    "print(df.shape)\n",
    "print(df.head(5))\n"
   ]
  },
  {
   "cell_type": "markdown",
   "metadata": {},
   "source": [
    "### Preprocesser: scanning the missing values\n",
    "\n",
    "- Exploration: With the **.info** and the **isnull.sum**, we evaluate the missing values. <br>\n",
    "- We should check up on Age, Height, Weight, Medal, Region and Notes as well, besides the 2 records that have no atlethe info. \n"
   ]
  },
  {
   "cell_type": "code",
   "execution_count": 6,
   "metadata": {},
   "outputs": [
    {
     "name": "stdout",
     "output_type": "stream",
     "text": [
      "<class 'pandas.core.frame.DataFrame'>\n",
      "Int64Index: 271118 entries, 0 to 271117\n",
      "Data columns (total 17 columns):\n",
      " #   Column  Non-Null Count   Dtype  \n",
      "---  ------  --------------   -----  \n",
      " 0   ID      271116 non-null  float64\n",
      " 1   Name    271116 non-null  object \n",
      " 2   Sex     271116 non-null  object \n",
      " 3   Age     261642 non-null  float64\n",
      " 4   Height  210945 non-null  float64\n",
      " 5   Weight  208241 non-null  float64\n",
      " 6   Team    271116 non-null  object \n",
      " 7   NOC     271118 non-null  object \n",
      " 8   Games   271116 non-null  object \n",
      " 9   Year    271116 non-null  float64\n",
      " 10  Season  271116 non-null  object \n",
      " 11  City    271116 non-null  object \n",
      " 12  Sport   271116 non-null  object \n",
      " 13  Event   271116 non-null  object \n",
      " 14  Medal   39783 non-null   object \n",
      " 15  region  270756 non-null  object \n",
      " 16  notes   4745 non-null    object \n",
      "dtypes: float64(5), object(12)\n",
      "memory usage: 37.2+ MB\n",
      "None\n",
      "ID             2\n",
      "Name           2\n",
      "Sex            2\n",
      "Age         9476\n",
      "Height     60173\n",
      "Weight     62877\n",
      "Team           2\n",
      "NOC            0\n",
      "Games          2\n",
      "Year           2\n",
      "Season         2\n",
      "City           2\n",
      "Sport          2\n",
      "Event          2\n",
      "Medal     231335\n",
      "region       362\n",
      "notes     266373\n",
      "dtype: int64\n"
     ]
    }
   ],
   "source": [
    "print(df.info())\n",
    "print(df.isnull().sum())"
   ]
  },
  {
   "cell_type": "markdown",
   "metadata": {},
   "source": [
    "### Preprocesser: deleting values\n",
    "\n",
    "- The 2 records without atlethe info will be deleted\n",
    "- People without medal will be removed as well"
   ]
  },
  {
   "cell_type": "code",
   "execution_count": 7,
   "metadata": {},
   "outputs": [
    {
     "name": "stdout",
     "output_type": "stream",
     "text": [
      "<class 'pandas.core.frame.DataFrame'>\n",
      "Int64Index: 271116 entries, 0 to 271115\n",
      "Data columns (total 17 columns):\n",
      " #   Column  Non-Null Count   Dtype  \n",
      "---  ------  --------------   -----  \n",
      " 0   ID      271116 non-null  float64\n",
      " 1   Name    271116 non-null  object \n",
      " 2   Sex     271116 non-null  object \n",
      " 3   Age     261642 non-null  float64\n",
      " 4   Height  210945 non-null  float64\n",
      " 5   Weight  208241 non-null  float64\n",
      " 6   Team    271116 non-null  object \n",
      " 7   NOC     271116 non-null  object \n",
      " 8   Games   271116 non-null  object \n",
      " 9   Year    271116 non-null  float64\n",
      " 10  Season  271116 non-null  object \n",
      " 11  City    271116 non-null  object \n",
      " 12  Sport   271116 non-null  object \n",
      " 13  Event   271116 non-null  object \n",
      " 14  Medal   39783 non-null   object \n",
      " 15  region  270756 non-null  object \n",
      " 16  notes   4745 non-null    object \n",
      "dtypes: float64(5), object(12)\n",
      "memory usage: 37.2+ MB\n",
      "[nan 'Silver' 'Bronze' 'Gold']\n"
     ]
    }
   ],
   "source": [
    "#Records without atlethe info will be deleted\n",
    "df = df[df.ID.isnull() == False]\n",
    "df.info()\n",
    "\n",
    "#Medal options\n",
    "print(df[\"Medal\"].unique())\n",
    "#Atlethes that did not win a medal at all will be removed\n",
    "df = df[df.Medal.isnull() == False]\n",
    "\n"
   ]
  },
  {
   "cell_type": "markdown",
   "metadata": {},
   "source": [
    "### Preprocesser: evaluation + replacement \n",
    "\n",
    "- Still needs a description"
   ]
  },
  {
   "cell_type": "code",
   "execution_count": 8,
   "metadata": {},
   "outputs": [
    {
     "name": "stdout",
     "output_type": "stream",
     "text": [
      "                  ID           Age        Height        Weight          Year\n",
      "count   39783.000000  39051.000000  31072.000000  30456.000000  39783.000000\n",
      "mean    69407.051806     25.925175    177.554197     73.770680   1973.943845\n",
      "std     38849.980737      5.914026     10.893723     15.016025     33.822857\n",
      "min         4.000000     10.000000    136.000000     28.000000   1896.000000\n",
      "25%     36494.000000     22.000000    170.000000     63.000000   1952.000000\n",
      "50%     68990.000000     25.000000    178.000000     73.000000   1984.000000\n",
      "75%    103461.500000     29.000000    185.000000     83.000000   2002.000000\n",
      "max    135563.000000     73.000000    223.000000    182.000000   2016.000000\n"
     ]
    },
    {
     "data": {
      "text/plain": [
       "8         173.0\n",
       "10        173.0\n",
       "11        173.0\n",
       "12        170.0\n",
       "17        183.0\n",
       "          ...  \n",
       "270835    152.0\n",
       "270841    175.0\n",
       "270842    175.0\n",
       "270945    157.0\n",
       "271042    162.0\n",
       "Name: Height, Length: 39783, dtype: float64"
      ]
     },
     "execution_count": 8,
     "metadata": {},
     "output_type": "execute_result"
    }
   ],
   "source": [
    "#evaluation the describution of the variables\n",
    "print(df.describe())\n",
    "\n",
    "# Fill age with the mean age\n",
    "df.Age.fillna(df.Age.mean())\n",
    "\n",
    "# Fill missing length and weight with the median\n",
    "df.Weight.fillna(df.Weight.median())\n",
    "df.Height.fillna(df.Height.median())\n"
   ]
  },
  {
   "cell_type": "markdown",
   "metadata": {},
   "source": [
    "### Analyzer visual data analysis:"
   ]
  },
  {
   "cell_type": "code",
   "execution_count": 120,
   "metadata": {},
   "outputs": [
    {
     "data": {
      "image/png": "[encoded data removed]",
      "text/plain": [
       "<Figure size 432x288 with 1 Axes>"
      ]
     },
     "metadata": {
      "needs_background": "light"
     },
     "output_type": "display_data"
    },
    {
     "data": {
      "image/png": "[encoded data removed]",
      "text/plain": [
       "<Figure size 432x288 with 1 Axes>"
      ]
     },
     "metadata": {
      "needs_background": "light"
     },
     "output_type": "display_data"
    }
   ],
   "source": [
    "# Gender\n",
    "sex_values = df.Sex.value_counts()\n",
    "steps = 10000\n",
    "maxy = round(max(sex_values)/steps)*steps\n",
    "\n",
    "plt.figure()\n",
    "plt.bar(['Male', 'Female'], [sex_values.M, sex_values.F])\n",
    "plt.yticks(range(0, maxy+1, steps))\n",
    "plt.title('Number of Olympic medal-winners per gender')\n",
    "plt.show()\n",
    "\n",
    "# Age\n",
    "age_labels = ['0-19', '20-29', '30-39', '40-49', '50-59', '60+']\n",
    "df.Age.describe()\n",
    "age_cat = pd.cut(df.Age, bins=[0, 19 ,29, 39, 49, 59, 999],\n",
    "                 labels=age_labels,\n",
    "                 include_lowest=True)\n",
    "age_values = age_cat.value_counts(sort=False)\n",
    "steps = 10000\n",
    "maxy = round(max(age_values)/steps)*steps\n",
    "\n",
    "plt.figure()\n",
    "plt.bar(list(age_values.index), age_values.values)\n",
    "plt.yticks(range(0, maxy+1, steps))\n",
    "plt.title('Distribution of age of Olympic medal-winners')\n",
    "plt.show()"
   ]
  },
  {
   "cell_type": "markdown",
   "metadata": {},
   "source": [
    "### Analyzer 5 questions: \n",
    "<br>\n",
    "Questions to answer: <br>\n",
    "1.In which year did the Netherlands win the most total medals and the most golden medals at one olympic event?"
   ]
  },
  {
   "cell_type": "code",
   "execution_count": 12,
   "metadata": {},
   "outputs": [
    {
     "name": "stdout",
     "output_type": "stream",
     "text": [
      "Most medals (n=79) in the year 2000\n",
      "Most gold medals (n=39) in the year 2008\n"
     ]
    },
    {
     "name": "stderr",
     "output_type": "stream",
     "text": [
      "C:\\Users\\Annelies\\AppData\\Local\\Programs\\Python\\Python37\\lib\\site-packages\\ipykernel_launcher.py:9: UserWarning: Boolean Series key will be reindexed to match DataFrame index.\n",
      "  if __name__ == '__main__':\n"
     ]
    }
   ],
   "source": [
    "# Select only Dutch athletes\n",
    "df_ned = df[df.region == 'Netherlands']\n",
    "\n",
    "df_medals = df_ned.groupby(['Year','Season'])['ID'].count()\n",
    "max_medals = df_medals.max()\n",
    "year = df_medals[df_medals == max_medals].index[0][0]\n",
    "print(f'Most medals (n={max_medals}) in the year {int(year)}')\n",
    "\n",
    "df_goldmedals = df_ned[df.Medal == 'Gold'].groupby(['Year','Season','Medal'])['ID'].count()\n",
    "max_goldmedals = df_goldmedals.max()\n",
    "year = df_goldmedals[df_goldmedals == max_goldmedals].index[0][0]\n",
    "print(f'Most gold medals (n={max_goldmedals}) in the year {int(year)}')"
   ]
  },
  {
   "cell_type": "markdown",
   "metadata": {},
   "source": [
    "2.Who is the most successfull olympic Dutch female athlete and male athlete (successfull = most total medals or most golden medals)"
   ]
  },
  {
   "cell_type": "code",
   "execution_count": 13,
   "metadata": {},
   "outputs": [
    {
     "name": "stdout",
     "output_type": "stream",
     "text": [
      "The most succesfull Dutch olympic athlete(s) up to 2016 is Theodora Elisabeth Gerarda \"Anky\" van Grunsven with 9 total medals.\n",
      "The most succesfull Dutch olympic athlete(s) up to 2016 is Inge de Bruijn, Irene Karlijn \"Ireen\" Wst, Leontine Martha Henrica Petronella \"Leontien\" Zijlaard-van Moorsel, Charles Ferdinand Pahud de Mortanges, Francina Elsje \"Fanny\" Blankers-Koen with 4 gold medals.\n",
      "The most succesfull male Dutch olympic athlete(s) up to 2016 is Pieter Cornelis Martijn van den Hoogenband, Sven Kramer with 7 total medals.\n",
      "The most succesfull male Dutch olympic athlete(s) up to 2016 is Charles Ferdinand Pahud de Mortanges with 4 gold medals.\n",
      "The most succesfull female Dutch olympic athlete(s) up to 2016 is Theodora Elisabeth Gerarda \"Anky\" van Grunsven with 9 total medals.\n",
      "The most succesfull female Dutch olympic athlete(s) up to 2016 is Francina Elsje \"Fanny\" Blankers-Koen, Inge de Bruijn, Leontine Martha Henrica Petronella \"Leontien\" Zijlaard-van Moorsel, Irene Karlijn \"Ireen\" Wst with 4 gold medals.\n"
     ]
    }
   ],
   "source": [
    "df_medals = df_ned.Name.value_counts()\n",
    "max_medals = df_medals.max()\n",
    "athlete = ','.join(df_medals[df_medals == max_medals].index)\n",
    "print(f'The most succesfull Dutch olympic athlete(s) up to 2016 is {athlete} with {max_medals} total medals.')\n",
    "\n",
    "df_goldmedals = df_ned[df_ned.Medal == 'Gold'].Name.value_counts()\n",
    "max_goldmedals = df_goldmedals.max()\n",
    "athlete = ', '.join(df_goldmedals[df_goldmedals == max_goldmedals].index)\n",
    "print(f'The most succesfull Dutch olympic athlete(s) up to 2016 is {athlete} with {max_goldmedals} gold medals.')\n",
    "\n",
    "df_medals_male = df_ned[df_ned.Sex == 'M']\n",
    "df_medals_female = df_ned[df_ned.Sex == 'F']\n",
    "\n",
    "for df_ned_sex in [df_medals_male, df_medals_female]:\n",
    "    df_medals = df_ned_sex.Name.value_counts()\n",
    "    df_goldmedals = df_ned_sex[df_ned_sex.Medal == 'Gold'].Name.value_counts()\n",
    "    max_medals = df_medals.max()\n",
    "    max_goldmedals = df_goldmedals.max()\n",
    "    athlete = ', '.join(df_medals[df_medals == max_medals].index)\n",
    "    athlete_gold = ', '.join(df_goldmedals[df_goldmedals == max_goldmedals].index)\n",
    "\n",
    "    if df_ned_sex['Sex'].max() == 'M':\n",
    "        sex = 'male'\n",
    "    else:\n",
    "        sex = 'female'\n",
    "    print(f'The most succesfull {sex} Dutch olympic athlete(s) up to 2016 is {athlete} with {max_medals} total medals.')\n",
    "    print(f'The most succesfull {sex} Dutch olympic athlete(s) up to 2016 is {athlete_gold} with {max_goldmedals} gold medals.')\n"
   ]
  },
  {
   "cell_type": "markdown",
   "metadata": {},
   "source": [
    "3.Did the Netherlands win more during the summer or winter olympics?"
   ]
  },
  {
   "cell_type": "code",
   "execution_count": 14,
   "metadata": {},
   "outputs": [
    {
     "name": "stdout",
     "output_type": "stream",
     "text": [
      "The most medals of Dutch olympic athletes were won during the Summer olympic games (namely: 918 medals in total)\n",
      "The most medals of Dutch olympic athletes corrected for number of games were won during the summer olympic games (namely: 32 on average per olympic game)\n"
     ]
    }
   ],
   "source": [
    "df_medals = df_ned.groupby(['Season'])['ID'].count()\n",
    "df_medals\n",
    "\n",
    "print(f'The most medals of Dutch olympic athletes were won during the {df_medals[df_medals == df_medals.max()].index[0]} olympic games (namely: {df_medals.max()} medals in total)')\n",
    "\n",
    "#Corrected for number of olympic games that were performed\n",
    "summer_indf = len(df.groupby(['Season'])['Year'].unique()['Summer'])\n",
    "winter_indf = len(df.groupby(['Season'])['Year'].unique()['Winter'])\n",
    "\n",
    "summer_medals = df_medals['Summer']\n",
    "winter_medals = df_medals['Winter']\n",
    "\n",
    "medals_pergame = {'summer': summer_medals/summer_indf, \n",
    "                  'winter': winter_medals/winter_indf}\n",
    "keymax = max(medals_pergame, key=medals_pergame.get) \n",
    "print(f'The most medals of Dutch olympic athletes corrected for number of games were won during the {keymax} olympic games (namely: {int(round(medals_pergame[keymax]))} on average per olympic game)')"
   ]
  },
  {
   "cell_type": "code",
   "execution_count": null,
   "metadata": {},
   "outputs": [],
   "source": [
    "4."
   ]
  },
  {
   "cell_type": "code",
   "execution_count": null,
   "metadata": {},
   "outputs": [],
   "source": [
    "5."
   ]
  }
 ],
 "metadata": {
  "kernelspec": {
   "display_name": "Python 3",
   "language": "python",
   "name": "python3"
  },
  "language_info": {
   "codemirror_mode": {
    "name": "ipython",
    "version": 3
   },
   "file_extension": ".py",
   "mimetype": "text/x-python",
   "name": "python",
   "nbconvert_exporter": "python",
   "pygments_lexer": "ipython3",
   "version": "3.7.2"
  }
 },
 "nbformat": 4,
 "nbformat_minor": 2
}
