{
 "cells": [
  {
   "cell_type": "markdown",
   "metadata": {},
   "source": [
    "# 120 years of olympic history\n",
    "120 year olympic history dataset from Kaggle\n",
    "https://www.kaggle.com/heesoo37/120-years-of-olympic-history-athletes-and-results\n",
    "\n",
    "### Questions\n",
    "Questions answered by Annelies for assignment 3\n",
    "1. In which year did the Netherlands win the most total medals and the most golden medals\n",
    "2. Who is the most successfull olympic Dutch female athlete and male athlete (successfull = most total medals)\n",
    "3. Did the Netherlands win more during the summer or winter olympics?"
   ]
  },
  {
   "cell_type": "markdown",
   "metadata": {},
   "source": [
    "*31-05-2020 AB: This is the notebook as I made it for assigmnent 3<br>\n",
    "Here I chose to rename the NOC columns to Country and just use the abbreviations<br>\n",
    "For the capstone project we need to replace this by merging the second csv <br>\n",
    "And ofcourse decide on other questions to answer as well :)<br>\n",
    "Also, I just tried to fill in the missings with median/means, we have to decide what we want to do together*"
   ]
  },
  {
   "cell_type": "code",
   "execution_count": 1,
   "metadata": {},
   "outputs": [],
   "source": [
    "import pandas as pd"
   ]
  },
  {
   "cell_type": "code",
   "execution_count": 2,
   "metadata": {},
   "outputs": [
    {
     "data": {
      "text/html": [
       "<div>\n",
       "<style scoped>\n",
       "    .dataframe tbody tr th:only-of-type {\n",
       "        vertical-align: middle;\n",
       "    }\n",
       "\n",
       "    .dataframe tbody tr th {\n",
       "        vertical-align: top;\n",
       "    }\n",
       "\n",
       "    .dataframe thead th {\n",
       "        text-align: right;\n",
       "    }\n",
       "</style>\n",
       "<table border=\"1\" class=\"dataframe\">\n",
       "  <thead>\n",
       "    <tr style=\"text-align: right;\">\n",
       "      <th></th>\n",
       "      <th>ID</th>\n",
       "      <th>Name</th>\n",
       "      <th>Sex</th>\n",
       "      <th>Age</th>\n",
       "      <th>Height</th>\n",
       "      <th>Weight</th>\n",
       "      <th>Team</th>\n",
       "      <th>Country</th>\n",
       "      <th>Games</th>\n",
       "      <th>Year</th>\n",
       "      <th>Season</th>\n",
       "      <th>City</th>\n",
       "      <th>Sport</th>\n",
       "      <th>Event</th>\n",
       "      <th>Medal</th>\n",
       "    </tr>\n",
       "  </thead>\n",
       "  <tbody>\n",
       "    <tr>\n",
       "      <th>0</th>\n",
       "      <td>1</td>\n",
       "      <td>A Dijiang</td>\n",
       "      <td>M</td>\n",
       "      <td>24.0</td>\n",
       "      <td>180.0</td>\n",
       "      <td>80.0</td>\n",
       "      <td>China</td>\n",
       "      <td>CHN</td>\n",
       "      <td>1992 Summer</td>\n",
       "      <td>1992</td>\n",
       "      <td>Summer</td>\n",
       "      <td>Barcelona</td>\n",
       "      <td>Basketball</td>\n",
       "      <td>Basketball Men's Basketball</td>\n",
       "      <td>NaN</td>\n",
       "    </tr>\n",
       "    <tr>\n",
       "      <th>1</th>\n",
       "      <td>2</td>\n",
       "      <td>A Lamusi</td>\n",
       "      <td>M</td>\n",
       "      <td>23.0</td>\n",
       "      <td>170.0</td>\n",
       "      <td>60.0</td>\n",
       "      <td>China</td>\n",
       "      <td>CHN</td>\n",
       "      <td>2012 Summer</td>\n",
       "      <td>2012</td>\n",
       "      <td>Summer</td>\n",
       "      <td>London</td>\n",
       "      <td>Judo</td>\n",
       "      <td>Judo Men's Extra-Lightweight</td>\n",
       "      <td>NaN</td>\n",
       "    </tr>\n",
       "    <tr>\n",
       "      <th>2</th>\n",
       "      <td>3</td>\n",
       "      <td>Gunnar Nielsen Aaby</td>\n",
       "      <td>M</td>\n",
       "      <td>24.0</td>\n",
       "      <td>NaN</td>\n",
       "      <td>NaN</td>\n",
       "      <td>Denmark</td>\n",
       "      <td>DEN</td>\n",
       "      <td>1920 Summer</td>\n",
       "      <td>1920</td>\n",
       "      <td>Summer</td>\n",
       "      <td>Antwerpen</td>\n",
       "      <td>Football</td>\n",
       "      <td>Football Men's Football</td>\n",
       "      <td>NaN</td>\n",
       "    </tr>\n",
       "    <tr>\n",
       "      <th>3</th>\n",
       "      <td>4</td>\n",
       "      <td>Edgar Lindenau Aabye</td>\n",
       "      <td>M</td>\n",
       "      <td>34.0</td>\n",
       "      <td>NaN</td>\n",
       "      <td>NaN</td>\n",
       "      <td>Denmark/Sweden</td>\n",
       "      <td>DEN</td>\n",
       "      <td>1900 Summer</td>\n",
       "      <td>1900</td>\n",
       "      <td>Summer</td>\n",
       "      <td>Paris</td>\n",
       "      <td>Tug-Of-War</td>\n",
       "      <td>Tug-Of-War Men's Tug-Of-War</td>\n",
       "      <td>Gold</td>\n",
       "    </tr>\n",
       "    <tr>\n",
       "      <th>4</th>\n",
       "      <td>5</td>\n",
       "      <td>Christine Jacoba Aaftink</td>\n",
       "      <td>F</td>\n",
       "      <td>21.0</td>\n",
       "      <td>185.0</td>\n",
       "      <td>82.0</td>\n",
       "      <td>Netherlands</td>\n",
       "      <td>NED</td>\n",
       "      <td>1988 Winter</td>\n",
       "      <td>1988</td>\n",
       "      <td>Winter</td>\n",
       "      <td>Calgary</td>\n",
       "      <td>Speed Skating</td>\n",
       "      <td>Speed Skating Women's 500 metres</td>\n",
       "      <td>NaN</td>\n",
       "    </tr>\n",
       "  </tbody>\n",
       "</table>\n",
       "</div>"
      ],
      "text/plain": [
       "   ID                      Name Sex   Age  Height  Weight            Team  \\\n",
       "0   1                 A Dijiang   M  24.0   180.0    80.0           China   \n",
       "1   2                  A Lamusi   M  23.0   170.0    60.0           China   \n",
       "2   3       Gunnar Nielsen Aaby   M  24.0     NaN     NaN         Denmark   \n",
       "3   4      Edgar Lindenau Aabye   M  34.0     NaN     NaN  Denmark/Sweden   \n",
       "4   5  Christine Jacoba Aaftink   F  21.0   185.0    82.0     Netherlands   \n",
       "\n",
       "  Country        Games  Year  Season       City          Sport  \\\n",
       "0     CHN  1992 Summer  1992  Summer  Barcelona     Basketball   \n",
       "1     CHN  2012 Summer  2012  Summer     London           Judo   \n",
       "2     DEN  1920 Summer  1920  Summer  Antwerpen       Football   \n",
       "3     DEN  1900 Summer  1900  Summer      Paris     Tug-Of-War   \n",
       "4     NED  1988 Winter  1988  Winter    Calgary  Speed Skating   \n",
       "\n",
       "                              Event Medal  \n",
       "0       Basketball Men's Basketball   NaN  \n",
       "1      Judo Men's Extra-Lightweight   NaN  \n",
       "2           Football Men's Football   NaN  \n",
       "3       Tug-Of-War Men's Tug-Of-War  Gold  \n",
       "4  Speed Skating Women's 500 metres   NaN  "
      ]
     },
     "execution_count": 2,
     "metadata": {},
     "output_type": "execute_result"
    }
   ],
   "source": [
    "#Open dataset\n",
    "path = 'data\\\\athlete_events.csv'\n",
    "\n",
    "df = pd.read_csv(path)\n",
    "df.head()\n",
    "\n",
    "#Rename NOC column to Country\n",
    "df = df.rename(columns={'NOC': 'Country'})\n",
    "\n",
    "df.head()\n"
   ]
  },
  {
   "cell_type": "code",
   "execution_count": 3,
   "metadata": {},
   "outputs": [
    {
     "name": "stdout",
     "output_type": "stream",
     "text": [
      "(271116, 15)\n"
     ]
    },
    {
     "data": {
      "text/html": [
       "<div>\n",
       "<style scoped>\n",
       "    .dataframe tbody tr th:only-of-type {\n",
       "        vertical-align: middle;\n",
       "    }\n",
       "\n",
       "    .dataframe tbody tr th {\n",
       "        vertical-align: top;\n",
       "    }\n",
       "\n",
       "    .dataframe thead th {\n",
       "        text-align: right;\n",
       "    }\n",
       "</style>\n",
       "<table border=\"1\" class=\"dataframe\">\n",
       "  <thead>\n",
       "    <tr style=\"text-align: right;\">\n",
       "      <th></th>\n",
       "      <th>ID</th>\n",
       "      <th>Age</th>\n",
       "      <th>Height</th>\n",
       "      <th>Weight</th>\n",
       "      <th>Year</th>\n",
       "    </tr>\n",
       "  </thead>\n",
       "  <tbody>\n",
       "    <tr>\n",
       "      <th>count</th>\n",
       "      <td>271116.000000</td>\n",
       "      <td>261642.000000</td>\n",
       "      <td>210945.000000</td>\n",
       "      <td>208241.000000</td>\n",
       "      <td>271116.000000</td>\n",
       "    </tr>\n",
       "    <tr>\n",
       "      <th>mean</th>\n",
       "      <td>68248.954396</td>\n",
       "      <td>25.556898</td>\n",
       "      <td>175.338970</td>\n",
       "      <td>70.702393</td>\n",
       "      <td>1978.378480</td>\n",
       "    </tr>\n",
       "    <tr>\n",
       "      <th>std</th>\n",
       "      <td>39022.286345</td>\n",
       "      <td>6.393561</td>\n",
       "      <td>10.518462</td>\n",
       "      <td>14.348020</td>\n",
       "      <td>29.877632</td>\n",
       "    </tr>\n",
       "    <tr>\n",
       "      <th>min</th>\n",
       "      <td>1.000000</td>\n",
       "      <td>10.000000</td>\n",
       "      <td>127.000000</td>\n",
       "      <td>25.000000</td>\n",
       "      <td>1896.000000</td>\n",
       "    </tr>\n",
       "    <tr>\n",
       "      <th>25%</th>\n",
       "      <td>34643.000000</td>\n",
       "      <td>21.000000</td>\n",
       "      <td>168.000000</td>\n",
       "      <td>60.000000</td>\n",
       "      <td>1960.000000</td>\n",
       "    </tr>\n",
       "    <tr>\n",
       "      <th>50%</th>\n",
       "      <td>68205.000000</td>\n",
       "      <td>24.000000</td>\n",
       "      <td>175.000000</td>\n",
       "      <td>70.000000</td>\n",
       "      <td>1988.000000</td>\n",
       "    </tr>\n",
       "    <tr>\n",
       "      <th>75%</th>\n",
       "      <td>102097.250000</td>\n",
       "      <td>28.000000</td>\n",
       "      <td>183.000000</td>\n",
       "      <td>79.000000</td>\n",
       "      <td>2002.000000</td>\n",
       "    </tr>\n",
       "    <tr>\n",
       "      <th>max</th>\n",
       "      <td>135571.000000</td>\n",
       "      <td>97.000000</td>\n",
       "      <td>226.000000</td>\n",
       "      <td>214.000000</td>\n",
       "      <td>2016.000000</td>\n",
       "    </tr>\n",
       "  </tbody>\n",
       "</table>\n",
       "</div>"
      ],
      "text/plain": [
       "                  ID            Age         Height         Weight  \\\n",
       "count  271116.000000  261642.000000  210945.000000  208241.000000   \n",
       "mean    68248.954396      25.556898     175.338970      70.702393   \n",
       "std     39022.286345       6.393561      10.518462      14.348020   \n",
       "min         1.000000      10.000000     127.000000      25.000000   \n",
       "25%     34643.000000      21.000000     168.000000      60.000000   \n",
       "50%     68205.000000      24.000000     175.000000      70.000000   \n",
       "75%    102097.250000      28.000000     183.000000      79.000000   \n",
       "max    135571.000000      97.000000     226.000000     214.000000   \n",
       "\n",
       "                Year  \n",
       "count  271116.000000  \n",
       "mean     1978.378480  \n",
       "std        29.877632  \n",
       "min      1896.000000  \n",
       "25%      1960.000000  \n",
       "50%      1988.000000  \n",
       "75%      2002.000000  \n",
       "max      2016.000000  "
      ]
     },
     "execution_count": 3,
     "metadata": {},
     "output_type": "execute_result"
    }
   ],
   "source": [
    "print(df.shape)\n",
    "df.describe()"
   ]
  },
  {
   "cell_type": "code",
   "execution_count": 4,
   "metadata": {},
   "outputs": [
    {
     "name": "stdout",
     "output_type": "stream",
     "text": [
      "                  ID           Age        Height        Weight          Year\n",
      "count   39783.000000  39051.000000  31072.000000  30456.000000  39783.000000\n",
      "mean    69407.051806     25.925175    177.554197     73.770680   1973.943845\n",
      "std     38849.980737      5.914026     10.893723     15.016025     33.822857\n",
      "min         4.000000     10.000000    136.000000     28.000000   1896.000000\n",
      "25%     36494.000000     22.000000    170.000000     63.000000   1952.000000\n",
      "50%     68990.000000     25.000000    178.000000     73.000000   1984.000000\n",
      "75%    103461.500000     29.000000    185.000000     83.000000   2002.000000\n",
      "max    135563.000000     73.000000    223.000000    182.000000   2016.000000\n",
      "ID            0\n",
      "Name          0\n",
      "Sex           0\n",
      "Age         732\n",
      "Height     8711\n",
      "Weight     9327\n",
      "Team          0\n",
      "Country       0\n",
      "Games         0\n",
      "Year          0\n",
      "Season        0\n",
      "City          0\n",
      "Sport         0\n",
      "Event         0\n",
      "Medal         0\n",
      "dtype: int64\n"
     ]
    },
    {
     "data": {
      "text/plain": [
       "3         178.0\n",
       "37        178.0\n",
       "38        178.0\n",
       "40        184.0\n",
       "41        175.0\n",
       "          ...  \n",
       "271078    168.0\n",
       "271080    168.0\n",
       "271082    182.0\n",
       "271102    171.0\n",
       "271103    171.0\n",
       "Name: Height, Length: 39783, dtype: float64"
      ]
     },
     "execution_count": 4,
     "metadata": {},
     "output_type": "execute_result"
    }
   ],
   "source": [
    "# Remove people from dataset that did not win a medal at all\n",
    "df = df[df.Medal.isnull() == False]\n",
    "\n",
    "print(df.describe())\n",
    "\n",
    "# Check which variables have missings\n",
    "print(df.isnull().sum())\n",
    "\n",
    "# Fill age with the mean age\n",
    "df.Age.fillna(df.Age.mean())\n",
    "\n",
    "# Fill missing length and weight with the median\n",
    "df.Weight.fillna(df.Weight.median())\n",
    "df.Height.fillna(df.Height.median())\n",
    "\n"
   ]
  },
  {
   "cell_type": "markdown",
   "metadata": {},
   "source": [
    "Questions to answer:\n",
    "1. In which year did the Netherlands win the most total medals and the most golden medals at one olympic event?"
   ]
  },
  {
   "cell_type": "code",
   "execution_count": 5,
   "metadata": {},
   "outputs": [
    {
     "name": "stdout",
     "output_type": "stream",
     "text": [
      "Most medals (n=79) in the year 2000\n",
      "Most gold medals (n=39) in the year 2008\n"
     ]
    },
    {
     "name": "stderr",
     "output_type": "stream",
     "text": [
      "C:\\Users\\Annelies\\AppData\\Local\\Programs\\Python\\Python37\\lib\\site-packages\\ipykernel_launcher.py:9: UserWarning: Boolean Series key will be reindexed to match DataFrame index.\n",
      "  if __name__ == '__main__':\n"
     ]
    }
   ],
   "source": [
    "# Select only Dutch athletes\n",
    "df_ned = df[df.Country == 'NED']\n",
    "\n",
    "df_medals = df_ned.groupby(['Year','Season'])['ID'].count()\n",
    "max_medals = df_medals.max()\n",
    "year = df_medals[df_medals == max_medals].index[0][0]\n",
    "print(f'Most medals (n={max_medals}) in the year {year}')\n",
    "\n",
    "df_goldmedals = df_ned[df.Medal == 'Gold'].groupby(['Year','Season','Medal'])['ID'].count()\n",
    "max_goldmedals = df_goldmedals.max()\n",
    "year = df_goldmedals[df_goldmedals == max_goldmedals].index[0][0]\n",
    "print(f'Most gold medals (n={max_goldmedals}) in the year {year}')"
   ]
  },
  {
   "cell_type": "markdown",
   "metadata": {},
   "source": [
    "2. Who is the most successfull olympic Dutch female athlete and male athlete (successfull = most total medals or most golden medals)"
   ]
  },
  {
   "cell_type": "code",
   "execution_count": 6,
   "metadata": {
    "scrolled": false
   },
   "outputs": [
    {
     "name": "stdout",
     "output_type": "stream",
     "text": [
      "The most succesfull Dutch olympic athlete(s) up to 2016 is Theodora Elisabeth Gerarda \"Anky\" van Grunsven with 9 total medals.\n",
      "The most succesfull Dutch olympic athlete(s) up to 2016 is Charles Ferdinand Pahud de Mortanges, Irene Karlijn \"Ireen\" Wst, Inge de Bruijn, Francina Elsje \"Fanny\" Blankers-Koen, Leontine Martha Henrica Petronella \"Leontien\" Zijlaard-van Moorsel with 4 gold medals.\n",
      "The most succesfull male Dutch olympic athlete(s) up to 2016 is Sven Kramer, Pieter Cornelis Martijn van den Hoogenband with 7 total medals.\n",
      "The most succesfull male Dutch olympic athlete(s) up to 2016 is Charles Ferdinand Pahud de Mortanges with 4 gold medals.\n",
      "The most succesfull female Dutch olympic athlete(s) up to 2016 is Theodora Elisabeth Gerarda \"Anky\" van Grunsven with 9 total medals.\n",
      "The most succesfull female Dutch olympic athlete(s) up to 2016 is Leontine Martha Henrica Petronella \"Leontien\" Zijlaard-van Moorsel, Inge de Bruijn, Irene Karlijn \"Ireen\" Wst, Francina Elsje \"Fanny\" Blankers-Koen with 4 gold medals.\n"
     ]
    }
   ],
   "source": [
    "df_medals = df_ned.Name.value_counts()\n",
    "max_medals = df_medals.max()\n",
    "athlete = ','.join(df_medals[df_medals == max_medals].index)\n",
    "print(f'The most succesfull Dutch olympic athlete(s) up to 2016 is {athlete} with {max_medals} total medals.')\n",
    "\n",
    "df_goldmedals = df_ned[df_ned.Medal == 'Gold'].Name.value_counts()\n",
    "max_goldmedals = df_goldmedals.max()\n",
    "athlete = ', '.join(df_goldmedals[df_goldmedals == max_goldmedals].index)\n",
    "print(f'The most succesfull Dutch olympic athlete(s) up to 2016 is {athlete} with {max_goldmedals} gold medals.')\n",
    "\n",
    "df_medals_male = df_ned[df_ned.Sex == 'M']\n",
    "df_medals_female = df_ned[df_ned.Sex == 'F']\n",
    "\n",
    "for df_ned_sex in [df_medals_male, df_medals_female]:\n",
    "    df_medals = df_ned_sex.Name.value_counts()\n",
    "    df_goldmedals = df_ned_sex[df_ned_sex.Medal == 'Gold'].Name.value_counts()\n",
    "    max_medals = df_medals.max()\n",
    "    max_goldmedals = df_goldmedals.max()\n",
    "    athlete = ', '.join(df_medals[df_medals == max_medals].index)\n",
    "    athlete_gold = ', '.join(df_goldmedals[df_goldmedals == max_goldmedals].index)\n",
    "\n",
    "    if df_ned_sex['Sex'].max() == 'M':\n",
    "        sex = 'male'\n",
    "    else:\n",
    "        sex = 'female'\n",
    "    print(f'The most succesfull {sex} Dutch olympic athlete(s) up to 2016 is {athlete} with {max_medals} total medals.')\n",
    "    print(f'The most succesfull {sex} Dutch olympic athlete(s) up to 2016 is {athlete_gold} with {max_goldmedals} gold medals.')\n"
   ]
  },
  {
   "cell_type": "markdown",
   "metadata": {},
   "source": [
    "3. Did the Netherlands win more during the summer or winter olympics?"
   ]
  },
  {
   "cell_type": "code",
   "execution_count": 7,
   "metadata": {},
   "outputs": [
    {
     "name": "stdout",
     "output_type": "stream",
     "text": [
      "The most medals of Dutch olympic athletes were won during the Summer olympic games (namely: 918 medals in total)\n",
      "The most medals of Dutch olympic athletes corrected for number of games were won during the summer olympic games (namely: 32 on average per olympic game)\n"
     ]
    }
   ],
   "source": [
    "df_medals = df_ned.groupby(['Season'])['ID'].count()\n",
    "df_medals\n",
    "\n",
    "print(f'The most medals of Dutch olympic athletes were won during the {df_medals[df_medals == df_medals.max()].index[0]} olympic games (namely: {df_medals.max()} medals in total)')\n",
    "\n",
    "#Corrected for number of olympic games that were performed\n",
    "summer_indf = len(df.groupby(['Season'])['Year'].unique()['Summer'])\n",
    "winter_indf = len(df.groupby(['Season'])['Year'].unique()['Winter'])\n",
    "\n",
    "summer_medals = df_medals['Summer']\n",
    "winter_medals = df_medals['Winter']\n",
    "\n",
    "medals_pergame = {'summer': summer_medals/summer_indf, \n",
    "                  'winter': winter_medals/winter_indf}\n",
    "keymax = max(medals_pergame, key=medals_pergame.get) \n",
    "print(f'The most medals of Dutch olympic athletes corrected for number of games were won during the {keymax} olympic games (namely: {int(round(medals_pergame[keymax]))} on average per olympic game)')\n",
    "\n"
   ]
  },
  {
   "cell_type": "code",
   "execution_count": null,
   "metadata": {},
   "outputs": [],
   "source": []
  }
 ],
 "metadata": {
  "kernelspec": {
   "display_name": "Python 3",
   "language": "python",
   "name": "python3"
  },
  "language_info": {
   "codemirror_mode": {
    "name": "ipython",
    "version": 3
   },
   "file_extension": ".py",
   "mimetype": "text/x-python",
   "name": "python",
   "nbconvert_exporter": "python",
   "pygments_lexer": "ipython3",
   "version": "3.7.2"
  }
 },
 "nbformat": 4,
 "nbformat_minor": 2
}
